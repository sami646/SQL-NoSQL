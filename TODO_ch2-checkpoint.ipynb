{
 "cells": [
  {
   "cell_type": "code",
   "execution_count": 1,
   "id": "974d4cd6",
   "metadata": {},
   "outputs": [
    {
     "name": "stdout",
     "output_type": "stream",
     "text": [
      "Non neque voluptatem porro dolor non. Amet dolorem modi quaerat neque eius est. Non non quisquam aliquam adipisci quisquam amet. Velit dolorem consectetur etincidunt sit etincidunt. Modi porro adipisci ipsum.\n",
      "\n",
      "\n",
      "Ut non ipsum tempora dolorem modi adipisci consectetur. Quiquia numquam labore voluptatem. Numquam dolore dolorem porro sit neque magnam. Adipisci quaerat ipsum ut. Quisquam dolor quiquia numquam numquam. Velit sit quaerat sed. Adipisci voluptatem dolor tempora consectetur consectetur quiquia velit. Est numquam amet eius consectetur neque porro aliquam. Quisquam voluptatem ipsum est. Ut adipisci labore adipisci dolore etincidunt amet neque.\n",
      "\n",
      "\n",
      "Modi aliquam magnam ut dolorem quisquam amet labore. Sit labore sit amet ut ut est. Ut eius dolorem dolorem etincidunt dolorem. Modi sed modi dolore etincidunt dolore. Labore magnam magnam eius dolor velit. Amet aliquam numquam voluptatem. Quiquia adipisci dolore etincidunt consectetur non adipisci non. Tempora dolor neque ipsum adipisci sed.\n",
      "\n",
      "\n",
      "\n"
     ]
    }
   ],
   "source": [
    "#TODO 1:Put a Lorem Ipsum of 3 paragraphs in a txt file using python, each paragraph delimited by two new line.\n",
    "import lorem\n",
    "\n",
    "lorem_text = \"\"\n",
    "\n",
    "# .paragraph est une fonction de lorem pour les créer\n",
    "for i in range(3):\n",
    "    paragraph = lorem.paragraph()\n",
    "    lorem_text += paragraph + \"\\n\\n\\n\"\n",
    "\n",
    "# on enregistre le file as txt\n",
    "with open(\"lorem_text.txt\", \"w\") as file:\n",
    "    file.write(lorem_text)\n",
    "    \n",
    "print(lorem_text)"
   ]
  },
  {
   "cell_type": "code",
   "execution_count": 2,
   "id": "5176149c",
   "metadata": {},
   "outputs": [
    {
     "name": "stdout",
     "output_type": "stream",
     "text": [
      "['\\n', 'Ut non ipsum tempora dolorem modi adipisci consectetur. Quiquia numquam labore voluptatem. Numquam dolore dolorem porro sit neque magnam. Adipisci quaerat ipsum ut. Quisquam dolor quiquia numquam numquam. Velit sit quaerat sed. Adipisci voluptatem dolor tempora consectetur consectetur quiquia velit. Est numquam amet eius consectetur neque porro aliquam. Quisquam voluptatem ipsum est. Ut adipisci labore adipisci dolore etincidunt amet neque.\\n', '\\n', '\\n', 'Modi aliquam magnam ut dolorem quisquam amet labore. Sit labore sit amet ut ut est. Ut eius dolorem dolorem etincidunt dolorem. Modi sed modi dolore etincidunt dolore. Labore magnam magnam eius dolor velit. Amet aliquam numquam voluptatem. Quiquia adipisci dolore etincidunt consectetur non adipisci non. Tempora dolor neque ipsum adipisci sed.\\n', '\\n', '\\n']\n"
     ]
    }
   ],
   "source": [
    "#TODO 2: Update the txt file by removing the first paragraph.\n",
    "with open(\"lorem_text.txt\", \"r\") as file:\n",
    "    lines = file.readlines()\n",
    "\n",
    "# Remove the first paragraph\n",
    "del lines[0:lines.index(\"\\n\")+1]\n",
    "\n",
    "with open(\"lorem_text.txt\", \"w\") as file:\n",
    "    file.writelines(lines)\n",
    "    \n",
    "print(lines)"
   ]
  },
  {
   "cell_type": "code",
   "execution_count": 8,
   "id": "f11ca1f5",
   "metadata": {},
   "outputs": [
    {
     "name": "stdout",
     "output_type": "stream",
     "text": [
      "[{'authors': ['Y. LeCun', 'L. Bottou', 'Y. Bengio', 'P. Haffner'], 'title': 'Generative Adversarial Networks', 'affiliations': 'Departement d’informatique et de recherche opérationnelle Université de Montréal '}, {'authors': ['Yann LeCun', 'Yoshua Bengio', 'Geoffrey Hinton'], 'title': 'Deep Learning', 'affiliations': ['Department of Computer Science and Operations Research, Université de Montréal, Canada', 'Department of Computer Science, University of Toronto']}]\n"
     ]
    }
   ],
   "source": [
    "#TODO 3: Create a dict from the paper of lecun et al. and goodfellow et al. with authors, title, affiliations.\n",
    "lecun = {\n",
    "    \"authors\": [\"Y. LeCun\", \"L. Bottou\", \"Y. Bengio\", \"P. Haffner\"],\n",
    "    \"title\": \"Generative Adversarial Networks\",\n",
    "    \"affiliations\": \"Departement d’informatique et de recherche opérationnelle Université de Montréal \"\n",
    "}\n",
    "\n",
    "goodfellow = {\n",
    "    \"authors\": [\"Yann LeCun\", \"Yoshua Bengio\", \"Geoffrey Hinton\"],\n",
    "    \"title\": \"Deep Learning\",\n",
    "    \"affiliations\": [\"Department of Computer Science and Operations Research, Université de Montréal, Canada\", \"Department of Computer Science, University of Toronto\"]\n",
    "}\n",
    "\n",
    "papers = [lecun, goodfellow]\n",
    "\n",
    "print(papers)\n"
   ]
  },
  {
   "cell_type": "code",
   "execution_count": 9,
   "id": "7ef5bc89",
   "metadata": {},
   "outputs": [
    {
     "name": "stdout",
     "output_type": "stream",
     "text": [
      "[{'authors': ['Y. LeCun', 'L. Bottou', 'Y. Bengio', 'P. Haffner'], 'title': 'Generative Adversarial Networks', 'affiliations': 'Departement d’informatique et de recherche opérationnelle Université de Montréal '}, {'authors': ['Yann LeCun', 'Yoshua Bengio', 'Geoffrey Hinton'], 'title': 'Deep Learning', 'affiliations': ['Department of Computer Science and Operations Research, Université de Montréal, Canada', 'Department of Computer Science, University of Toronto']}]\n"
     ]
    }
   ],
   "source": [
    "#TODO 4: Save the previously created dict in the JSON format and load it back.\n",
    "import json\n",
    "\n",
    "\n",
    "with open(\"papers.json\", \"w\") as f:\n",
    "    json.dump(papers, f)\n",
    "\n",
    "\n",
    "with open(\"papers.json\", \"r\") as f:\n",
    "    papers_loaded = json.load(f)\n",
    "\n",
    "print(papers_loaded)\n"
   ]
  },
  {
   "cell_type": "code",
   "execution_count": 11,
   "id": "12cef577",
   "metadata": {},
   "outputs": [
    {
     "name": "stdout",
     "output_type": "stream",
     "text": [
      "[{'authors': ['Y. LeCun', 'L. Bottou', 'Y. Bengio', 'P. Haffner'], 'title': 'Generative Adversarial Networks', 'affiliations': 'Departement d’informatique et de recherche opérationnelle Université de Montréal '}, {'authors': ['Yann LeCun', 'Yoshua Bengio', 'Geoffrey Hinton'], 'title': 'Deep Learning', 'affiliations': ['Department of Computer Science and Operations Research, Université de Montréal, Canada', 'Department of Computer Science, University of Toronto']}]\n"
     ]
    }
   ],
   "source": [
    "#TODO 5: Save the previously created dict in the pickle format. Try to open manually (i.e with a text editor), is it human readable ?\n",
    "import pickle\n",
    "\n",
    "\n",
    "with open(\"papers.pickle\", \"wb\") as f:\n",
    "    pickle.dump(papers, f)\n",
    "    \n",
    "\n",
    "with open(\"papers.pickle\", \"rb\") as f:\n",
    "    papers_loaded = pickle.load(f)\n",
    "\n",
    "print(papers_loaded)"
   ]
  },
  {
   "cell_type": "code",
   "execution_count": null,
   "id": "ffe69229",
   "metadata": {},
   "outputs": [],
   "source": []
  }
 ],
 "metadata": {
  "kernelspec": {
   "display_name": "Python 3",
   "language": "python",
   "name": "python3"
  },
  "language_info": {
   "codemirror_mode": {
    "name": "ipython",
    "version": 3
   },
   "file_extension": ".py",
   "mimetype": "text/x-python",
   "name": "python",
   "nbconvert_exporter": "python",
   "pygments_lexer": "ipython3",
   "version": "3.9.13"
  }
 },
 "nbformat": 4,
 "nbformat_minor": 5
}
